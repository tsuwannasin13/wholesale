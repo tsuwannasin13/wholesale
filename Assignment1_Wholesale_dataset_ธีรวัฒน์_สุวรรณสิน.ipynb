{
  "nbformat": 4,
  "nbformat_minor": 0,
  "metadata": {
    "colab": {
      "name": "Copy of #Assignment1 : Wholesale dataset_ธีรวัฒน์ สุวรรณสิน.ipynb",
      "provenance": [],
      "collapsed_sections": [],
      "toc_visible": true,
      "include_colab_link": true
    },
    "kernelspec": {
      "name": "python3",
      "display_name": "Python 3"
    }
  },
  "cells": [
    {
      "cell_type": "markdown",
      "metadata": {
        "id": "view-in-github",
        "colab_type": "text"
      },
      "source": [
        "<a href=\"https://colab.research.google.com/github/tsuwannasin13/wholesale/blob/master/Assignment1_Wholesale_dataset_%E0%B8%98%E0%B8%B5%E0%B8%A3%E0%B8%A7%E0%B8%B1%E0%B8%92%E0%B8%99%E0%B9%8C_%E0%B8%AA%E0%B8%B8%E0%B8%A7%E0%B8%A3%E0%B8%A3%E0%B8%93%E0%B8%AA%E0%B8%B4%E0%B8%99.ipynb\" target=\"_parent\"><img src=\"https://colab.research.google.com/assets/colab-badge.svg\" alt=\"Open In Colab\"/></a>"
      ]
    },
    {
      "cell_type": "markdown",
      "metadata": {
        "id": "AqVlL-qo4TGw",
        "colab_type": "text"
      },
      "source": [
        "#**Wholesale Dataset**\n"
      ]
    },
    {
      "cell_type": "markdown",
      "metadata": {
        "id": "HKlQ-GXH4aY4",
        "colab_type": "text"
      },
      "source": [
        "ไฟล์ \"Wholesale customers data.csv\" (download จาก https://archive.ics.uci.edu/ml/machine-learning-databases/00292/) เป็นข้อมูลเกี่ยวกับยอดการขายสินค้าประเภทต่างๆ ในแต่ละภูมิภาค ผ่าน 2 ช่องทาง คือ Horeca (Hotel/Restaurant/Cafe) หรือ Retail จาก UCI Machine Learning Repository โดยแถวแรกเป็นชื่อคอลัมน์ และ แถวที่ 2 เป็นต้นไปเก็บข้อมูล\n",
        "\n",
        "ประเภทของสินค้า คือ fresh products, milk products, grocery products, forzen products, detergents and papers และ delicatessen\n",
        "\n",
        "คอลัมน์ CHANNEL เป็นช่องทางการขาย ที่มีค่าเป็น Horeca (Hotel/Restaurant/Cafe) หรือ Retail (1,2)\n",
        "คอลัมน์ REGION: เป็นภูมิภาค ได้แก่ Lisnon, Oporto หรือ Other (1,2,3)\n",
        "คอลัมน์ FRESH, MILK, GROCERY, FROZEN, DETERGENTS_PAPER, DELICATESSEN เป็นยอดขายของสินค้าแต่ละประเภทในภูมิภาคนั้น ผ่านช่องทางนั้นในหนึ่งปี"
      ]
    },
    {
      "cell_type": "markdown",
      "metadata": {
        "id": "aWHc1kgj_HFZ",
        "colab_type": "text"
      },
      "source": [
        "\n",
        "\n",
        "1) เขียนโปรแกรมเพื่อแปลงข้อมูลช่องทางการขายและภูมิภาค จากตัวเลขให้เป็นชื่อของแต่ละช่องทางการขายและภูมิภาคนั้น ๆ จากนั้นบันทึกเป็นไฟล์ใหม่ที่มีชื่อว่า Rename_Wholesale.csv โดยจะใช้ไฟล์นี้เป็นหลักในข้อถัดไป\n",
        "\n",
        "2) เขียนโปรแกรมเพื่อหายอดขายรวมจากทุกช่องทาง ในทุกภูมิภาค สำหรับสินค้าแต่ละประเภทแล้ววาด pie chart\n",
        "\n",
        "3) เขียนโปรแกรมเพื่อหายอดขายรวมของสินค้าทุกประเภท ในทุกช่องทาง สำหรับแต่ละภูมิภาคแล้ววาด pie chart\n",
        "\n",
        "4) เขียนโปรแกรมเพื่อหายอดขายรวมของสินค้าสำหรับทำความสะอาดในแต่ละช่องทางการขาย โดยแบ่งเป็นของแต่ละภูมิภาค พร้อมพล็อตกราฟของแต่ละภูมิภาค\n",
        "\n",
        "5) เขียนโปรแกรมเพื่อหาจำนวน record ที่ยอดขายของอาหารสดรวมกับอาหารแช่แข็งผ่านช่องทาง Horeca(Hotel/Restaurant/Cafe) ไม่เกิน 1,000 ชิ้น\n",
        "\n",
        "6) เขียนโปรแกรมเพื่อหาภูมิภาคที่มีการบริโภคนมมากที่สุด และในภูมิภาคนั้นมีการบริโภคนมมากกว่าอาหารสดทั้งหมดกี่ record"
      ]
    },
    {
      "cell_type": "markdown",
      "metadata": {
        "id": "RxkLg42e_4XV",
        "colab_type": "text"
      },
      "source": [
        "##1) เขียนโปรแกรมเพื่อแปลงข้อมูลช่องทางการขายและภูมิภาค จากตัวเลขให้เป็นชื่อของแต่ละช่องทางการขายและภูมิภาคนั้น ๆ จากนั้นบันทึกเป็นไฟล์ใหม่ที่มีชื่อว่า Rename_Wholesale.csv โดยจะใช้ไฟล์นี้เป็นหลักในข้อถัดไป"
      ]
    },
    {
      "cell_type": "code",
      "metadata": {
        "id": "7t7s8SY0n6Eh",
        "colab_type": "code",
        "outputId": "b1eee8ec-84f8-4721-cd19-8a699c0f85a6",
        "cellView": "both",
        "colab": {
          "base_uri": "https://localhost:8080/",
          "height": 1000
        }
      },
      "source": [
        "import numpy as np\n",
        "#import csv\n",
        "import pandas as pd\n",
        "wholesale = pd.read_csv('https://github.com/tsuwannasin13/wholesale/raw/master/Wholesale%20customers%20data.csv')\n",
        "#replace Channel Region\n",
        "wholesale['Channel'].replace({1:'Horeca (Hotel/Restuarant/cafe)', 2:'Retail'}, inplace=True)\n",
        "wholesale['Region'].replace({1:'Lisnon', 2:'Oporto', 3:'Other'}, inplace=True)\n",
        "wholesale\n",
        "#export data to csv\n",
        "wholesale.to_csv('Rename_Wholesale.csv')\n",
        "!cat Rename_Wholesale.csv\n"
      ],
      "execution_count": 0,
      "outputs": [
        {
          "output_type": "stream",
          "text": [
            ",Channel,Region,Fresh,Milk,Grocery,Frozen,Detergents_Paper,Delicassen\n",
            "0,Retail,Other,12669,9656,7561,214,2674,1338\n",
            "1,Retail,Other,7057,9810,9568,1762,3293,1776\n",
            "2,Retail,Other,6353,8808,7684,2405,3516,7844\n",
            "3,Horeca (Hotel/Restuarant/cafe),Other,13265,1196,4221,6404,507,1788\n",
            "4,Retail,Other,22615,5410,7198,3915,1777,5185\n",
            "5,Retail,Other,9413,8259,5126,666,1795,1451\n",
            "6,Retail,Other,12126,3199,6975,480,3140,545\n",
            "7,Retail,Other,7579,4956,9426,1669,3321,2566\n",
            "8,Horeca (Hotel/Restuarant/cafe),Other,5963,3648,6192,425,1716,750\n",
            "9,Retail,Other,6006,11093,18881,1159,7425,2098\n",
            "10,Retail,Other,3366,5403,12974,4400,5977,1744\n",
            "11,Retail,Other,13146,1124,4523,1420,549,497\n",
            "12,Retail,Other,31714,12319,11757,287,3881,2931\n",
            "13,Retail,Other,21217,6208,14982,3095,6707,602\n",
            "14,Retail,Other,24653,9465,12091,294,5058,2168\n",
            "15,Horeca (Hotel/Restuarant/cafe),Other,10253,1114,3821,397,964,412\n",
            "16,Retail,Other,1020,8816,12121,134,4508,1080\n",
            "17,Horeca (Hotel/Restuarant/cafe),Other,5876,6157,2933,839,370,4478\n",
            "18,Retail,Other,18601,6327,10099,2205,2767,3181\n",
            "19,Horeca (Hotel/Restuarant/cafe),Other,7780,2495,9464,669,2518,501\n",
            "20,Retail,Other,17546,4519,4602,1066,2259,2124\n",
            "21,Horeca (Hotel/Restuarant/cafe),Other,5567,871,2010,3383,375,569\n",
            "22,Horeca (Hotel/Restuarant/cafe),Other,31276,1917,4469,9408,2381,4334\n",
            "23,Retail,Other,26373,36423,22019,5154,4337,16523\n",
            "24,Retail,Other,22647,9776,13792,2915,4482,5778\n",
            "25,Retail,Other,16165,4230,7595,201,4003,57\n",
            "26,Horeca (Hotel/Restuarant/cafe),Other,9898,961,2861,3151,242,833\n",
            "27,Horeca (Hotel/Restuarant/cafe),Other,14276,803,3045,485,100,518\n",
            "28,Retail,Other,4113,20484,25957,1158,8604,5206\n",
            "29,Horeca (Hotel/Restuarant/cafe),Other,43088,2100,2609,1200,1107,823\n",
            "30,Horeca (Hotel/Restuarant/cafe),Other,18815,3610,11107,1148,2134,2963\n",
            "31,Horeca (Hotel/Restuarant/cafe),Other,2612,4339,3133,2088,820,985\n",
            "32,Horeca (Hotel/Restuarant/cafe),Other,21632,1318,2886,266,918,405\n",
            "33,Horeca (Hotel/Restuarant/cafe),Other,29729,4786,7326,6130,361,1083\n",
            "34,Horeca (Hotel/Restuarant/cafe),Other,1502,1979,2262,425,483,395\n",
            "35,Retail,Other,688,5491,11091,833,4239,436\n",
            "36,Horeca (Hotel/Restuarant/cafe),Other,29955,4362,5428,1729,862,4626\n",
            "37,Retail,Other,15168,10556,12477,1920,6506,714\n",
            "38,Retail,Other,4591,15729,16709,33,6956,433\n",
            "39,Horeca (Hotel/Restuarant/cafe),Other,56159,555,902,10002,212,2916\n",
            "40,Horeca (Hotel/Restuarant/cafe),Other,24025,4332,4757,9510,1145,5864\n",
            "41,Horeca (Hotel/Restuarant/cafe),Other,19176,3065,5956,2033,2575,2802\n",
            "42,Retail,Other,10850,7555,14961,188,6899,46\n",
            "43,Retail,Other,630,11095,23998,787,9529,72\n",
            "44,Retail,Other,9670,7027,10471,541,4618,65\n",
            "45,Retail,Other,5181,22044,21531,1740,7353,4985\n",
            "46,Retail,Other,3103,14069,21955,1668,6792,1452\n",
            "47,Retail,Other,44466,54259,55571,7782,24171,6465\n",
            "48,Retail,Other,11519,6152,10868,584,5121,1476\n",
            "49,Retail,Other,4967,21412,28921,1798,13583,1163\n",
            "50,Horeca (Hotel/Restuarant/cafe),Other,6269,1095,1980,3860,609,2162\n",
            "51,Horeca (Hotel/Restuarant/cafe),Other,3347,4051,6996,239,1538,301\n",
            "52,Retail,Other,40721,3916,5876,532,2587,1278\n",
            "53,Retail,Other,491,10473,11532,744,5611,224\n",
            "54,Horeca (Hotel/Restuarant/cafe),Other,27329,1449,1947,2436,204,1333\n",
            "55,Horeca (Hotel/Restuarant/cafe),Other,5264,3683,5005,1057,2024,1130\n",
            "56,Retail,Other,4098,29892,26866,2616,17740,1340\n",
            "57,Retail,Other,5417,9933,10487,38,7572,1282\n",
            "58,Horeca (Hotel/Restuarant/cafe),Other,13779,1970,1648,596,227,436\n",
            "59,Horeca (Hotel/Restuarant/cafe),Other,6137,5360,8040,129,3084,1603\n",
            "60,Retail,Other,8590,3045,7854,96,4095,225\n",
            "61,Retail,Other,35942,38369,59598,3254,26701,2017\n",
            "62,Retail,Other,7823,6245,6544,4154,4074,964\n",
            "63,Retail,Other,9396,11601,15775,2896,7677,1295\n",
            "64,Horeca (Hotel/Restuarant/cafe),Other,4760,1227,3250,3724,1247,1145\n",
            "65,Retail,Other,85,20959,45828,36,24231,1423\n",
            "66,Horeca (Hotel/Restuarant/cafe),Other,9,1534,7417,175,3468,27\n",
            "67,Retail,Other,19913,6759,13462,1256,5141,834\n",
            "68,Horeca (Hotel/Restuarant/cafe),Other,2446,7260,3993,5870,788,3095\n",
            "69,Horeca (Hotel/Restuarant/cafe),Other,8352,2820,1293,779,656,144\n",
            "70,Horeca (Hotel/Restuarant/cafe),Other,16705,2037,3202,10643,116,1365\n",
            "71,Horeca (Hotel/Restuarant/cafe),Other,18291,1266,21042,5373,4173,14472\n",
            "72,Horeca (Hotel/Restuarant/cafe),Other,4420,5139,2661,8872,1321,181\n",
            "73,Retail,Other,19899,5332,8713,8132,764,648\n",
            "74,Retail,Other,8190,6343,9794,1285,1901,1780\n",
            "75,Horeca (Hotel/Restuarant/cafe),Other,20398,1137,3,4407,3,975\n",
            "76,Horeca (Hotel/Restuarant/cafe),Other,717,3587,6532,7530,529,894\n",
            "77,Retail,Other,12205,12697,28540,869,12034,1009\n",
            "78,Horeca (Hotel/Restuarant/cafe),Other,10766,1175,2067,2096,301,167\n",
            "79,Horeca (Hotel/Restuarant/cafe),Other,1640,3259,3655,868,1202,1653\n",
            "80,Horeca (Hotel/Restuarant/cafe),Other,7005,829,3009,430,610,529\n",
            "81,Retail,Other,219,9540,14403,283,7818,156\n",
            "82,Retail,Other,10362,9232,11009,737,3537,2342\n",
            "83,Horeca (Hotel/Restuarant/cafe),Other,20874,1563,1783,2320,550,772\n",
            "84,Retail,Other,11867,3327,4814,1178,3837,120\n",
            "85,Retail,Other,16117,46197,92780,1026,40827,2944\n",
            "86,Retail,Other,22925,73498,32114,987,20070,903\n",
            "87,Horeca (Hotel/Restuarant/cafe),Other,43265,5025,8117,6312,1579,14351\n",
            "88,Horeca (Hotel/Restuarant/cafe),Other,7864,542,4042,9735,165,46\n",
            "89,Horeca (Hotel/Restuarant/cafe),Other,24904,3836,5330,3443,454,3178\n",
            "90,Horeca (Hotel/Restuarant/cafe),Other,11405,596,1638,3347,69,360\n",
            "91,Horeca (Hotel/Restuarant/cafe),Other,12754,2762,2530,8693,627,1117\n",
            "92,Retail,Other,9198,27472,32034,3232,18906,5130\n",
            "93,Horeca (Hotel/Restuarant/cafe),Other,11314,3090,2062,35009,71,2698\n",
            "94,Retail,Other,5626,12220,11323,206,5038,244\n",
            "95,Horeca (Hotel/Restuarant/cafe),Other,3,2920,6252,440,223,709\n",
            "96,Retail,Other,23,2616,8118,145,3874,217\n",
            "97,Horeca (Hotel/Restuarant/cafe),Other,403,254,610,774,54,63\n",
            "98,Horeca (Hotel/Restuarant/cafe),Other,503,112,778,895,56,132\n",
            "99,Horeca (Hotel/Restuarant/cafe),Other,9658,2182,1909,5639,215,323\n",
            "100,Retail,Other,11594,7779,12144,3252,8035,3029\n",
            "101,Retail,Other,1420,10810,16267,1593,6766,1838\n",
            "102,Retail,Other,2932,6459,7677,2561,4573,1386\n",
            "103,Horeca (Hotel/Restuarant/cafe),Other,56082,3504,8906,18028,1480,2498\n",
            "104,Horeca (Hotel/Restuarant/cafe),Other,14100,2132,3445,1336,1491,548\n",
            "105,Horeca (Hotel/Restuarant/cafe),Other,15587,1014,3970,910,139,1378\n",
            "106,Retail,Other,1454,6337,10704,133,6830,1831\n",
            "107,Retail,Other,8797,10646,14886,2471,8969,1438\n",
            "108,Retail,Other,1531,8397,6981,247,2505,1236\n",
            "109,Retail,Other,1406,16729,28986,673,836,3\n",
            "110,Horeca (Hotel/Restuarant/cafe),Other,11818,1648,1694,2276,169,1647\n",
            "111,Retail,Other,12579,11114,17569,805,6457,1519\n",
            "112,Horeca (Hotel/Restuarant/cafe),Other,19046,2770,2469,8853,483,2708\n",
            "113,Horeca (Hotel/Restuarant/cafe),Other,14438,2295,1733,3220,585,1561\n",
            "114,Horeca (Hotel/Restuarant/cafe),Other,18044,1080,2000,2555,118,1266\n",
            "115,Horeca (Hotel/Restuarant/cafe),Other,11134,793,2988,2715,276,610\n",
            "116,Horeca (Hotel/Restuarant/cafe),Other,11173,2521,3355,1517,310,222\n",
            "117,Horeca (Hotel/Restuarant/cafe),Other,6990,3880,5380,1647,319,1160\n",
            "118,Horeca (Hotel/Restuarant/cafe),Other,20049,1891,2362,5343,411,933\n",
            "119,Horeca (Hotel/Restuarant/cafe),Other,8258,2344,2147,3896,266,635\n",
            "120,Horeca (Hotel/Restuarant/cafe),Other,17160,1200,3412,2417,174,1136\n",
            "121,Horeca (Hotel/Restuarant/cafe),Other,4020,3234,1498,2395,264,255\n",
            "122,Horeca (Hotel/Restuarant/cafe),Other,12212,201,245,1991,25,860\n",
            "123,Retail,Other,11170,10769,8814,2194,1976,143\n",
            "124,Horeca (Hotel/Restuarant/cafe),Other,36050,1642,2961,4787,500,1621\n",
            "125,Horeca (Hotel/Restuarant/cafe),Other,76237,3473,7102,16538,778,918\n",
            "126,Horeca (Hotel/Restuarant/cafe),Other,19219,1840,1658,8195,349,483\n",
            "127,Retail,Other,21465,7243,10685,880,2386,2749\n",
            "128,Horeca (Hotel/Restuarant/cafe),Other,140,8847,3823,142,1062,3\n",
            "129,Horeca (Hotel/Restuarant/cafe),Other,42312,926,1510,1718,410,1819\n",
            "130,Horeca (Hotel/Restuarant/cafe),Other,7149,2428,699,6316,395,911\n",
            "131,Horeca (Hotel/Restuarant/cafe),Other,2101,589,314,346,70,310\n",
            "132,Horeca (Hotel/Restuarant/cafe),Other,14903,2032,2479,576,955,328\n",
            "133,Horeca (Hotel/Restuarant/cafe),Other,9434,1042,1235,436,256,396\n",
            "134,Horeca (Hotel/Restuarant/cafe),Other,7388,1882,2174,720,47,537\n",
            "135,Horeca (Hotel/Restuarant/cafe),Other,6300,1289,2591,1170,199,326\n",
            "136,Horeca (Hotel/Restuarant/cafe),Other,4625,8579,7030,4575,2447,1542\n",
            "137,Horeca (Hotel/Restuarant/cafe),Other,3087,8080,8282,661,721,36\n",
            "138,Horeca (Hotel/Restuarant/cafe),Other,13537,4257,5034,155,249,3271\n",
            "139,Horeca (Hotel/Restuarant/cafe),Other,5387,4979,3343,825,637,929\n",
            "140,Horeca (Hotel/Restuarant/cafe),Other,17623,4280,7305,2279,960,2616\n",
            "141,Horeca (Hotel/Restuarant/cafe),Other,30379,13252,5189,321,51,1450\n",
            "142,Horeca (Hotel/Restuarant/cafe),Other,37036,7152,8253,2995,20,3\n",
            "143,Horeca (Hotel/Restuarant/cafe),Other,10405,1596,1096,8425,399,318\n",
            "144,Horeca (Hotel/Restuarant/cafe),Other,18827,3677,1988,118,516,201\n",
            "145,Retail,Other,22039,8384,34792,42,12591,4430\n",
            "146,Horeca (Hotel/Restuarant/cafe),Other,7769,1936,2177,926,73,520\n",
            "147,Horeca (Hotel/Restuarant/cafe),Other,9203,3373,2707,1286,1082,526\n",
            "148,Horeca (Hotel/Restuarant/cafe),Other,5924,584,542,4052,283,434\n",
            "149,Horeca (Hotel/Restuarant/cafe),Other,31812,1433,1651,800,113,1440\n",
            "150,Horeca (Hotel/Restuarant/cafe),Other,16225,1825,1765,853,170,1067\n",
            "151,Horeca (Hotel/Restuarant/cafe),Other,1289,3328,2022,531,255,1774\n",
            "152,Horeca (Hotel/Restuarant/cafe),Other,18840,1371,3135,3001,352,184\n",
            "153,Horeca (Hotel/Restuarant/cafe),Other,3463,9250,2368,779,302,1627\n",
            "154,Horeca (Hotel/Restuarant/cafe),Other,622,55,137,75,7,8\n",
            "155,Retail,Other,1989,10690,19460,233,11577,2153\n",
            "156,Retail,Other,3830,5291,14855,317,6694,3182\n",
            "157,Horeca (Hotel/Restuarant/cafe),Other,17773,1366,2474,3378,811,418\n",
            "158,Retail,Other,2861,6570,9618,930,4004,1682\n",
            "159,Retail,Other,355,7704,14682,398,8077,303\n",
            "160,Retail,Other,1725,3651,12822,824,4424,2157\n",
            "161,Horeca (Hotel/Restuarant/cafe),Other,12434,540,283,1092,3,2233\n",
            "162,Horeca (Hotel/Restuarant/cafe),Other,15177,2024,3810,2665,232,610\n",
            "163,Retail,Other,5531,15726,26870,2367,13726,446\n",
            "164,Retail,Other,5224,7603,8584,2540,3674,238\n",
            "165,Retail,Other,15615,12653,19858,4425,7108,2379\n",
            "166,Retail,Other,4822,6721,9170,993,4973,3637\n",
            "167,Horeca (Hotel/Restuarant/cafe),Other,2926,3195,3268,405,1680,693\n",
            "168,Horeca (Hotel/Restuarant/cafe),Other,5809,735,803,1393,79,429\n",
            "169,Horeca (Hotel/Restuarant/cafe),Other,5414,717,2155,2399,69,750\n",
            "170,Retail,Other,260,8675,13430,1116,7015,323\n",
            "171,Retail,Other,200,25862,19816,651,8773,6250\n",
            "172,Horeca (Hotel/Restuarant/cafe),Other,955,5479,6536,333,2840,707\n",
            "173,Retail,Other,514,7677,19805,937,9836,716\n",
            "174,Horeca (Hotel/Restuarant/cafe),Other,286,1208,5241,2515,153,1442\n",
            "175,Retail,Other,2343,7845,11874,52,4196,1697\n",
            "176,Horeca (Hotel/Restuarant/cafe),Other,45640,6958,6536,7368,1532,230\n",
            "177,Horeca (Hotel/Restuarant/cafe),Other,12759,7330,4533,1752,20,2631\n",
            "178,Horeca (Hotel/Restuarant/cafe),Other,11002,7075,4945,1152,120,395\n",
            "179,Horeca (Hotel/Restuarant/cafe),Other,3157,4888,2500,4477,273,2165\n",
            "180,Horeca (Hotel/Restuarant/cafe),Other,12356,6036,8887,402,1382,2794\n",
            "181,Horeca (Hotel/Restuarant/cafe),Other,112151,29627,18148,16745,4948,8550\n",
            "182,Horeca (Hotel/Restuarant/cafe),Other,694,8533,10518,443,6907,156\n",
            "183,Horeca (Hotel/Restuarant/cafe),Other,36847,43950,20170,36534,239,47943\n",
            "184,Horeca (Hotel/Restuarant/cafe),Other,327,918,4710,74,334,11\n",
            "185,Horeca (Hotel/Restuarant/cafe),Other,8170,6448,1139,2181,58,247\n",
            "186,Horeca (Hotel/Restuarant/cafe),Other,3009,521,854,3470,949,727\n",
            "187,Horeca (Hotel/Restuarant/cafe),Other,2438,8002,9819,6269,3459,3\n",
            "188,Retail,Other,8040,7639,11687,2758,6839,404\n",
            "189,Retail,Other,834,11577,11522,275,4027,1856\n",
            "190,Horeca (Hotel/Restuarant/cafe),Other,16936,6250,1981,7332,118,64\n",
            "191,Horeca (Hotel/Restuarant/cafe),Other,13624,295,1381,890,43,84\n",
            "192,Horeca (Hotel/Restuarant/cafe),Other,5509,1461,2251,547,187,409\n",
            "193,Retail,Other,180,3485,20292,959,5618,666\n",
            "194,Horeca (Hotel/Restuarant/cafe),Other,7107,1012,2974,806,355,1142\n",
            "195,Horeca (Hotel/Restuarant/cafe),Other,17023,5139,5230,7888,330,1755\n",
            "196,Horeca (Hotel/Restuarant/cafe),Lisnon,30624,7209,4897,18711,763,2876\n",
            "197,Retail,Lisnon,2427,7097,10391,1127,4314,1468\n",
            "198,Horeca (Hotel/Restuarant/cafe),Lisnon,11686,2154,6824,3527,592,697\n",
            "199,Horeca (Hotel/Restuarant/cafe),Lisnon,9670,2280,2112,520,402,347\n",
            "200,Retail,Lisnon,3067,13240,23127,3941,9959,731\n",
            "201,Retail,Lisnon,4484,14399,24708,3549,14235,1681\n",
            "202,Horeca (Hotel/Restuarant/cafe),Lisnon,25203,11487,9490,5065,284,6854\n",
            "203,Horeca (Hotel/Restuarant/cafe),Lisnon,583,685,2216,469,954,18\n",
            "204,Horeca (Hotel/Restuarant/cafe),Lisnon,1956,891,5226,1383,5,1328\n",
            "205,Retail,Lisnon,1107,11711,23596,955,9265,710\n",
            "206,Horeca (Hotel/Restuarant/cafe),Lisnon,6373,780,950,878,288,285\n",
            "207,Retail,Lisnon,2541,4737,6089,2946,5316,120\n",
            "208,Horeca (Hotel/Restuarant/cafe),Lisnon,1537,3748,5838,1859,3381,806\n",
            "209,Retail,Lisnon,5550,12729,16767,864,12420,797\n",
            "210,Horeca (Hotel/Restuarant/cafe),Lisnon,18567,1895,1393,1801,244,2100\n",
            "211,Retail,Lisnon,12119,28326,39694,4736,19410,2870\n",
            "212,Horeca (Hotel/Restuarant/cafe),Lisnon,7291,1012,2062,1291,240,1775\n",
            "213,Horeca (Hotel/Restuarant/cafe),Lisnon,3317,6602,6861,1329,3961,1215\n",
            "214,Retail,Lisnon,2362,6551,11364,913,5957,791\n",
            "215,Horeca (Hotel/Restuarant/cafe),Lisnon,2806,10765,15538,1374,5828,2388\n",
            "216,Retail,Lisnon,2532,16599,36486,179,13308,674\n",
            "217,Horeca (Hotel/Restuarant/cafe),Lisnon,18044,1475,2046,2532,130,1158\n",
            "218,Retail,Lisnon,18,7504,15205,1285,4797,6372\n",
            "219,Horeca (Hotel/Restuarant/cafe),Lisnon,4155,367,1390,2306,86,130\n",
            "220,Horeca (Hotel/Restuarant/cafe),Lisnon,14755,899,1382,1765,56,749\n",
            "221,Horeca (Hotel/Restuarant/cafe),Lisnon,5396,7503,10646,91,4167,239\n",
            "222,Horeca (Hotel/Restuarant/cafe),Lisnon,5041,1115,2856,7496,256,375\n",
            "223,Retail,Lisnon,2790,2527,5265,5612,788,1360\n",
            "224,Horeca (Hotel/Restuarant/cafe),Lisnon,7274,659,1499,784,70,659\n",
            "225,Horeca (Hotel/Restuarant/cafe),Lisnon,12680,3243,4157,660,761,786\n",
            "226,Retail,Lisnon,20782,5921,9212,1759,2568,1553\n",
            "227,Horeca (Hotel/Restuarant/cafe),Lisnon,4042,2204,1563,2286,263,689\n",
            "228,Horeca (Hotel/Restuarant/cafe),Lisnon,1869,577,572,950,4762,203\n",
            "229,Horeca (Hotel/Restuarant/cafe),Lisnon,8656,2746,2501,6845,694,980\n",
            "230,Retail,Lisnon,11072,5989,5615,8321,955,2137\n",
            "231,Horeca (Hotel/Restuarant/cafe),Lisnon,2344,10678,3828,1439,1566,490\n",
            "232,Horeca (Hotel/Restuarant/cafe),Lisnon,25962,1780,3838,638,284,834\n",
            "233,Horeca (Hotel/Restuarant/cafe),Lisnon,964,4984,3316,937,409,7\n",
            "234,Horeca (Hotel/Restuarant/cafe),Lisnon,15603,2703,3833,4260,325,2563\n",
            "235,Horeca (Hotel/Restuarant/cafe),Lisnon,1838,6380,2824,1218,1216,295\n",
            "236,Horeca (Hotel/Restuarant/cafe),Lisnon,8635,820,3047,2312,415,225\n",
            "237,Horeca (Hotel/Restuarant/cafe),Lisnon,18692,3838,593,4634,28,1215\n",
            "238,Horeca (Hotel/Restuarant/cafe),Lisnon,7363,475,585,1112,72,216\n",
            "239,Horeca (Hotel/Restuarant/cafe),Lisnon,47493,2567,3779,5243,828,2253\n",
            "240,Horeca (Hotel/Restuarant/cafe),Lisnon,22096,3575,7041,11422,343,2564\n",
            "241,Horeca (Hotel/Restuarant/cafe),Lisnon,24929,1801,2475,2216,412,1047\n",
            "242,Horeca (Hotel/Restuarant/cafe),Lisnon,18226,659,2914,3752,586,578\n",
            "243,Horeca (Hotel/Restuarant/cafe),Lisnon,11210,3576,5119,561,1682,2398\n",
            "244,Horeca (Hotel/Restuarant/cafe),Lisnon,6202,7775,10817,1183,3143,1970\n",
            "245,Retail,Lisnon,3062,6154,13916,230,8933,2784\n",
            "246,Horeca (Hotel/Restuarant/cafe),Lisnon,8885,2428,1777,1777,430,610\n",
            "247,Horeca (Hotel/Restuarant/cafe),Lisnon,13569,346,489,2077,44,659\n",
            "248,Horeca (Hotel/Restuarant/cafe),Lisnon,15671,5279,2406,559,562,572\n",
            "249,Horeca (Hotel/Restuarant/cafe),Lisnon,8040,3795,2070,6340,918,291\n",
            "250,Horeca (Hotel/Restuarant/cafe),Lisnon,3191,1993,1799,1730,234,710\n",
            "251,Retail,Lisnon,6134,23133,33586,6746,18594,5121\n",
            "252,Horeca (Hotel/Restuarant/cafe),Lisnon,6623,1860,4740,7683,205,1693\n",
            "253,Horeca (Hotel/Restuarant/cafe),Lisnon,29526,7961,16966,432,363,1391\n",
            "254,Horeca (Hotel/Restuarant/cafe),Lisnon,10379,17972,4748,4686,1547,3265\n",
            "255,Horeca (Hotel/Restuarant/cafe),Lisnon,31614,489,1495,3242,111,615\n",
            "256,Horeca (Hotel/Restuarant/cafe),Lisnon,11092,5008,5249,453,392,373\n",
            "257,Horeca (Hotel/Restuarant/cafe),Lisnon,8475,1931,1883,5004,3593,987\n",
            "258,Horeca (Hotel/Restuarant/cafe),Lisnon,56083,4563,2124,6422,730,3321\n",
            "259,Horeca (Hotel/Restuarant/cafe),Lisnon,53205,4959,7336,3012,967,818\n",
            "260,Horeca (Hotel/Restuarant/cafe),Lisnon,9193,4885,2157,327,780,548\n",
            "261,Horeca (Hotel/Restuarant/cafe),Lisnon,7858,1110,1094,6818,49,287\n",
            "262,Horeca (Hotel/Restuarant/cafe),Lisnon,23257,1372,1677,982,429,655\n",
            "263,Horeca (Hotel/Restuarant/cafe),Lisnon,2153,1115,6684,4324,2894,411\n",
            "264,Retail,Lisnon,1073,9679,15445,61,5980,1265\n",
            "265,Horeca (Hotel/Restuarant/cafe),Lisnon,5909,23527,13699,10155,830,3636\n",
            "266,Retail,Lisnon,572,9763,22182,2221,4882,2563\n",
            "267,Horeca (Hotel/Restuarant/cafe),Lisnon,20893,1222,2576,3975,737,3628\n",
            "268,Retail,Lisnon,11908,8053,19847,1069,6374,698\n",
            "269,Horeca (Hotel/Restuarant/cafe),Lisnon,15218,258,1138,2516,333,204\n",
            "270,Horeca (Hotel/Restuarant/cafe),Lisnon,4720,1032,975,5500,197,56\n",
            "271,Horeca (Hotel/Restuarant/cafe),Lisnon,2083,5007,1563,1120,147,1550\n",
            "272,Horeca (Hotel/Restuarant/cafe),Lisnon,514,8323,6869,529,93,1040\n",
            "273,Horeca (Hotel/Restuarant/cafe),Other,36817,3045,1493,4802,210,1824\n",
            "274,Horeca (Hotel/Restuarant/cafe),Other,894,1703,1841,744,759,1153\n",
            "275,Horeca (Hotel/Restuarant/cafe),Other,680,1610,223,862,96,379\n",
            "276,Horeca (Hotel/Restuarant/cafe),Other,27901,3749,6964,4479,603,2503\n",
            "277,Horeca (Hotel/Restuarant/cafe),Other,9061,829,683,16919,621,139\n",
            "278,Horeca (Hotel/Restuarant/cafe),Other,11693,2317,2543,5845,274,1409\n",
            "279,Retail,Other,17360,6200,9694,1293,3620,1721\n",
            "280,Horeca (Hotel/Restuarant/cafe),Other,3366,2884,2431,977,167,1104\n",
            "281,Retail,Other,12238,7108,6235,1093,2328,2079\n",
            "282,Horeca (Hotel/Restuarant/cafe),Other,49063,3965,4252,5970,1041,1404\n",
            "283,Horeca (Hotel/Restuarant/cafe),Other,25767,3613,2013,10303,314,1384\n",
            "284,Horeca (Hotel/Restuarant/cafe),Other,68951,4411,12609,8692,751,2406\n",
            "285,Horeca (Hotel/Restuarant/cafe),Other,40254,640,3600,1042,436,18\n",
            "286,Horeca (Hotel/Restuarant/cafe),Other,7149,2247,1242,1619,1226,128\n",
            "287,Horeca (Hotel/Restuarant/cafe),Other,15354,2102,2828,8366,386,1027\n",
            "288,Horeca (Hotel/Restuarant/cafe),Other,16260,594,1296,848,445,258\n",
            "289,Horeca (Hotel/Restuarant/cafe),Other,42786,286,471,1388,32,22\n",
            "290,Horeca (Hotel/Restuarant/cafe),Other,2708,2160,2642,502,965,1522\n",
            "291,Horeca (Hotel/Restuarant/cafe),Other,6022,3354,3261,2507,212,686\n",
            "292,Horeca (Hotel/Restuarant/cafe),Other,2838,3086,4329,3838,825,1060\n",
            "293,Retail,Oporto,3996,11103,12469,902,5952,741\n",
            "294,Horeca (Hotel/Restuarant/cafe),Oporto,21273,2013,6550,909,811,1854\n",
            "295,Retail,Oporto,7588,1897,5234,417,2208,254\n",
            "296,Horeca (Hotel/Restuarant/cafe),Oporto,19087,1304,3643,3045,710,898\n",
            "297,Retail,Oporto,8090,3199,6986,1455,3712,531\n",
            "298,Retail,Oporto,6758,4560,9965,934,4538,1037\n",
            "299,Horeca (Hotel/Restuarant/cafe),Oporto,444,879,2060,264,290,259\n",
            "300,Retail,Oporto,16448,6243,6360,824,2662,2005\n",
            "301,Retail,Oporto,5283,13316,20399,1809,8752,172\n",
            "302,Retail,Oporto,2886,5302,9785,364,6236,555\n",
            "303,Retail,Oporto,2599,3688,13829,492,10069,59\n",
            "304,Retail,Oporto,161,7460,24773,617,11783,2410\n",
            "305,Retail,Oporto,243,12939,8852,799,3909,211\n",
            "306,Retail,Oporto,6468,12867,21570,1840,7558,1543\n",
            "307,Horeca (Hotel/Restuarant/cafe),Oporto,17327,2374,2842,1149,351,925\n",
            "308,Horeca (Hotel/Restuarant/cafe),Oporto,6987,1020,3007,416,257,656\n",
            "309,Retail,Oporto,918,20655,13567,1465,6846,806\n",
            "310,Horeca (Hotel/Restuarant/cafe),Oporto,7034,1492,2405,12569,299,1117\n",
            "311,Horeca (Hotel/Restuarant/cafe),Oporto,29635,2335,8280,3046,371,117\n",
            "312,Retail,Oporto,2137,3737,19172,1274,17120,142\n",
            "313,Horeca (Hotel/Restuarant/cafe),Oporto,9784,925,2405,4447,183,297\n",
            "314,Horeca (Hotel/Restuarant/cafe),Oporto,10617,1795,7647,1483,857,1233\n",
            "315,Retail,Oporto,1479,14982,11924,662,3891,3508\n",
            "316,Horeca (Hotel/Restuarant/cafe),Oporto,7127,1375,2201,2679,83,1059\n",
            "317,Horeca (Hotel/Restuarant/cafe),Oporto,1182,3088,6114,978,821,1637\n",
            "318,Horeca (Hotel/Restuarant/cafe),Oporto,11800,2713,3558,2121,706,51\n",
            "319,Retail,Oporto,9759,25071,17645,1128,12408,1625\n",
            "320,Horeca (Hotel/Restuarant/cafe),Oporto,1774,3696,2280,514,275,834\n",
            "321,Horeca (Hotel/Restuarant/cafe),Oporto,9155,1897,5167,2714,228,1113\n",
            "322,Horeca (Hotel/Restuarant/cafe),Oporto,15881,713,3315,3703,1470,229\n",
            "323,Horeca (Hotel/Restuarant/cafe),Oporto,13360,944,11593,915,1679,573\n",
            "324,Horeca (Hotel/Restuarant/cafe),Oporto,25977,3587,2464,2369,140,1092\n",
            "325,Horeca (Hotel/Restuarant/cafe),Oporto,32717,16784,13626,60869,1272,5609\n",
            "326,Horeca (Hotel/Restuarant/cafe),Oporto,4414,1610,1431,3498,387,834\n",
            "327,Horeca (Hotel/Restuarant/cafe),Oporto,542,899,1664,414,88,522\n",
            "328,Horeca (Hotel/Restuarant/cafe),Oporto,16933,2209,3389,7849,210,1534\n",
            "329,Horeca (Hotel/Restuarant/cafe),Oporto,5113,1486,4583,5127,492,739\n",
            "330,Horeca (Hotel/Restuarant/cafe),Oporto,9790,1786,5109,3570,182,1043\n",
            "331,Retail,Oporto,11223,14881,26839,1234,9606,1102\n",
            "332,Horeca (Hotel/Restuarant/cafe),Oporto,22321,3216,1447,2208,178,2602\n",
            "333,Retail,Oporto,8565,4980,67298,131,38102,1215\n",
            "334,Retail,Oporto,16823,928,2743,11559,332,3486\n",
            "335,Retail,Oporto,27082,6817,10790,1365,4111,2139\n",
            "336,Horeca (Hotel/Restuarant/cafe),Oporto,13970,1511,1330,650,146,778\n",
            "337,Horeca (Hotel/Restuarant/cafe),Oporto,9351,1347,2611,8170,442,868\n",
            "338,Horeca (Hotel/Restuarant/cafe),Oporto,3,333,7021,15601,15,550\n",
            "339,Horeca (Hotel/Restuarant/cafe),Oporto,2617,1188,5332,9584,573,1942\n",
            "340,Retail,Other,381,4025,9670,388,7271,1371\n",
            "341,Retail,Other,2320,5763,11238,767,5162,2158\n",
            "342,Horeca (Hotel/Restuarant/cafe),Other,255,5758,5923,349,4595,1328\n",
            "343,Retail,Other,1689,6964,26316,1456,15469,37\n",
            "344,Horeca (Hotel/Restuarant/cafe),Other,3043,1172,1763,2234,217,379\n",
            "345,Horeca (Hotel/Restuarant/cafe),Other,1198,2602,8335,402,3843,303\n",
            "346,Retail,Other,2771,6939,15541,2693,6600,1115\n",
            "347,Retail,Other,27380,7184,12311,2809,4621,1022\n",
            "348,Horeca (Hotel/Restuarant/cafe),Other,3428,2380,2028,1341,1184,665\n",
            "349,Retail,Other,5981,14641,20521,2005,12218,445\n",
            "350,Horeca (Hotel/Restuarant/cafe),Other,3521,1099,1997,1796,173,995\n",
            "351,Retail,Other,1210,10044,22294,1741,12638,3137\n",
            "352,Horeca (Hotel/Restuarant/cafe),Other,608,1106,1533,830,90,195\n",
            "353,Retail,Other,117,6264,21203,228,8682,1111\n",
            "354,Horeca (Hotel/Restuarant/cafe),Other,14039,7393,2548,6386,1333,2341\n",
            "355,Horeca (Hotel/Restuarant/cafe),Other,190,727,2012,245,184,127\n",
            "356,Horeca (Hotel/Restuarant/cafe),Other,22686,134,218,3157,9,548\n",
            "357,Retail,Other,37,1275,22272,137,6747,110\n",
            "358,Horeca (Hotel/Restuarant/cafe),Other,759,18664,1660,6114,536,4100\n",
            "359,Horeca (Hotel/Restuarant/cafe),Other,796,5878,2109,340,232,776\n",
            "360,Horeca (Hotel/Restuarant/cafe),Other,19746,2872,2006,2601,468,503\n",
            "361,Horeca (Hotel/Restuarant/cafe),Other,4734,607,864,1206,159,405\n",
            "362,Horeca (Hotel/Restuarant/cafe),Other,2121,1601,2453,560,179,712\n",
            "363,Horeca (Hotel/Restuarant/cafe),Other,4627,997,4438,191,1335,314\n",
            "364,Horeca (Hotel/Restuarant/cafe),Other,2615,873,1524,1103,514,468\n",
            "365,Retail,Other,4692,6128,8025,1619,4515,3105\n",
            "366,Horeca (Hotel/Restuarant/cafe),Other,9561,2217,1664,1173,222,447\n",
            "367,Horeca (Hotel/Restuarant/cafe),Other,3477,894,534,1457,252,342\n",
            "368,Horeca (Hotel/Restuarant/cafe),Other,22335,1196,2406,2046,101,558\n",
            "369,Horeca (Hotel/Restuarant/cafe),Other,6211,337,683,1089,41,296\n",
            "370,Retail,Other,39679,3944,4955,1364,523,2235\n",
            "371,Horeca (Hotel/Restuarant/cafe),Other,20105,1887,1939,8164,716,790\n",
            "372,Horeca (Hotel/Restuarant/cafe),Other,3884,3801,1641,876,397,4829\n",
            "373,Retail,Other,15076,6257,7398,1504,1916,3113\n",
            "374,Horeca (Hotel/Restuarant/cafe),Other,6338,2256,1668,1492,311,686\n",
            "375,Horeca (Hotel/Restuarant/cafe),Other,5841,1450,1162,597,476,70\n",
            "376,Retail,Other,3136,8630,13586,5641,4666,1426\n",
            "377,Horeca (Hotel/Restuarant/cafe),Other,38793,3154,2648,1034,96,1242\n",
            "378,Horeca (Hotel/Restuarant/cafe),Other,3225,3294,1902,282,68,1114\n",
            "379,Retail,Other,4048,5164,10391,130,813,179\n",
            "380,Horeca (Hotel/Restuarant/cafe),Other,28257,944,2146,3881,600,270\n",
            "381,Horeca (Hotel/Restuarant/cafe),Other,17770,4591,1617,9927,246,532\n",
            "382,Horeca (Hotel/Restuarant/cafe),Other,34454,7435,8469,2540,1711,2893\n",
            "383,Horeca (Hotel/Restuarant/cafe),Other,1821,1364,3450,4006,397,361\n",
            "384,Horeca (Hotel/Restuarant/cafe),Other,10683,21858,15400,3635,282,5120\n",
            "385,Horeca (Hotel/Restuarant/cafe),Other,11635,922,1614,2583,192,1068\n",
            "386,Horeca (Hotel/Restuarant/cafe),Other,1206,3620,2857,1945,353,967\n",
            "387,Horeca (Hotel/Restuarant/cafe),Other,20918,1916,1573,1960,231,961\n",
            "388,Horeca (Hotel/Restuarant/cafe),Other,9785,848,1172,1677,200,406\n",
            "389,Horeca (Hotel/Restuarant/cafe),Other,9385,1530,1422,3019,227,684\n",
            "390,Horeca (Hotel/Restuarant/cafe),Other,3352,1181,1328,5502,311,1000\n",
            "391,Horeca (Hotel/Restuarant/cafe),Other,2647,2761,2313,907,95,1827\n",
            "392,Horeca (Hotel/Restuarant/cafe),Other,518,4180,3600,659,122,654\n",
            "393,Horeca (Hotel/Restuarant/cafe),Other,23632,6730,3842,8620,385,819\n",
            "394,Horeca (Hotel/Restuarant/cafe),Other,12377,865,3204,1398,149,452\n",
            "395,Horeca (Hotel/Restuarant/cafe),Other,9602,1316,1263,2921,841,290\n",
            "396,Retail,Other,4515,11991,9345,2644,3378,2213\n",
            "397,Horeca (Hotel/Restuarant/cafe),Other,11535,1666,1428,6838,64,743\n",
            "398,Horeca (Hotel/Restuarant/cafe),Other,11442,1032,582,5390,74,247\n",
            "399,Horeca (Hotel/Restuarant/cafe),Other,9612,577,935,1601,469,375\n",
            "400,Horeca (Hotel/Restuarant/cafe),Other,4446,906,1238,3576,153,1014\n",
            "401,Horeca (Hotel/Restuarant/cafe),Other,27167,2801,2128,13223,92,1902\n",
            "402,Horeca (Hotel/Restuarant/cafe),Other,26539,4753,5091,220,10,340\n",
            "403,Horeca (Hotel/Restuarant/cafe),Other,25606,11006,4604,127,632,288\n",
            "404,Horeca (Hotel/Restuarant/cafe),Other,18073,4613,3444,4324,914,715\n",
            "405,Horeca (Hotel/Restuarant/cafe),Other,6884,1046,1167,2069,593,378\n",
            "406,Horeca (Hotel/Restuarant/cafe),Other,25066,5010,5026,9806,1092,960\n",
            "407,Retail,Other,7362,12844,18683,2854,7883,553\n",
            "408,Retail,Other,8257,3880,6407,1646,2730,344\n",
            "409,Horeca (Hotel/Restuarant/cafe),Other,8708,3634,6100,2349,2123,5137\n",
            "410,Horeca (Hotel/Restuarant/cafe),Other,6633,2096,4563,1389,1860,1892\n",
            "411,Horeca (Hotel/Restuarant/cafe),Other,2126,3289,3281,1535,235,4365\n",
            "412,Horeca (Hotel/Restuarant/cafe),Other,97,3605,12400,98,2970,62\n",
            "413,Horeca (Hotel/Restuarant/cafe),Other,4983,4859,6633,17866,912,2435\n",
            "414,Horeca (Hotel/Restuarant/cafe),Other,5969,1990,3417,5679,1135,290\n",
            "415,Retail,Other,7842,6046,8552,1691,3540,1874\n",
            "416,Retail,Other,4389,10940,10908,848,6728,993\n",
            "417,Horeca (Hotel/Restuarant/cafe),Other,5065,5499,11055,364,3485,1063\n",
            "418,Retail,Other,660,8494,18622,133,6740,776\n",
            "419,Horeca (Hotel/Restuarant/cafe),Other,8861,3783,2223,633,1580,1521\n",
            "420,Horeca (Hotel/Restuarant/cafe),Other,4456,5266,13227,25,6818,1393\n",
            "421,Retail,Other,17063,4847,9053,1031,3415,1784\n",
            "422,Horeca (Hotel/Restuarant/cafe),Other,26400,1377,4172,830,948,1218\n",
            "423,Retail,Other,17565,3686,4657,1059,1803,668\n",
            "424,Retail,Other,16980,2884,12232,874,3213,249\n",
            "425,Horeca (Hotel/Restuarant/cafe),Other,11243,2408,2593,15348,108,1886\n",
            "426,Horeca (Hotel/Restuarant/cafe),Other,13134,9347,14316,3141,5079,1894\n",
            "427,Horeca (Hotel/Restuarant/cafe),Other,31012,16687,5429,15082,439,1163\n",
            "428,Horeca (Hotel/Restuarant/cafe),Other,3047,5970,4910,2198,850,317\n",
            "429,Horeca (Hotel/Restuarant/cafe),Other,8607,1750,3580,47,84,2501\n",
            "430,Horeca (Hotel/Restuarant/cafe),Other,3097,4230,16483,575,241,2080\n",
            "431,Horeca (Hotel/Restuarant/cafe),Other,8533,5506,5160,13486,1377,1498\n",
            "432,Horeca (Hotel/Restuarant/cafe),Other,21117,1162,4754,269,1328,395\n",
            "433,Horeca (Hotel/Restuarant/cafe),Other,1982,3218,1493,1541,356,1449\n",
            "434,Horeca (Hotel/Restuarant/cafe),Other,16731,3922,7994,688,2371,838\n",
            "435,Horeca (Hotel/Restuarant/cafe),Other,29703,12051,16027,13135,182,2204\n",
            "436,Horeca (Hotel/Restuarant/cafe),Other,39228,1431,764,4510,93,2346\n",
            "437,Retail,Other,14531,15488,30243,437,14841,1867\n",
            "438,Horeca (Hotel/Restuarant/cafe),Other,10290,1981,2232,1038,168,2125\n",
            "439,Horeca (Hotel/Restuarant/cafe),Other,2787,1698,2510,65,477,52\n"
          ],
          "name": "stdout"
        }
      ]
    },
    {
      "cell_type": "markdown",
      "metadata": {
        "id": "E-ZHAoStLxBv",
        "colab_type": "text"
      },
      "source": [
        "##2) เขียนโปรแกรมเพื่อหายอดขายรวมจากทุกช่องทาง ในทุกภูมิภาค สำหรับสินค้าแต่ละประเภทแล้ววาด pie chart\n",
        "\n"
      ]
    },
    {
      "cell_type": "code",
      "metadata": {
        "id": "seXxNb7Bn8eg",
        "colab_type": "code",
        "outputId": "c6f834bf-4022-4afd-9749-9e0848c27ca2",
        "colab": {
          "base_uri": "https://localhost:8080/",
          "height": 253
        }
      },
      "source": [
        "import matplotlib.pyplot as plt\n",
        "import pandas as pd\n",
        "#Read\n",
        "wholesale = pd.read_csv('Rename_Wholesale.csv')\n",
        "#sum products\n",
        "wholesale_Fresh = wholesale['Fresh'].sum()\n",
        "wholesale_Milk = wholesale['Milk'].sum()\n",
        "wholesale_Grocery = wholesale['Grocery'].sum()\n",
        "wholesale_Frozen = wholesale['Frozen'].sum()\n",
        "wholesale_Detergents_Paper = wholesale['Detergents_Paper'].sum()\n",
        "wholesale_Delicassen = wholesale['Delicassen'].sum()\n",
        "#Data to plot\n",
        "labels = 'Fresh', 'Milk', 'Grocery', 'Frozen','Detergents_Paper','Delicassen'\n",
        "sizes = [wholesale_Fresh, wholesale_Milk, wholesale_Grocery, wholesale_Frozen,wholesale_Detergents_Paper,wholesale_Delicassen]\n",
        "colors = ['red', 'yellow', 'lightcoral', 'lightskyblue','pink','orange']\n",
        "explode = (0.1, 0.1, 0.1, 0.1, 0.1, 0.1) \n",
        "\n",
        "# Plot pie chart\n",
        "plt.pie(sizes, explode=explode, labels=labels, colors=colors, autopct='%1.1f%%', shadow=True, startangle=120)\n",
        "plt.axis('equal') # Equal aspect ratio ensures that pie is drawn as a circle.\n",
        "plt.show()"
      ],
      "execution_count": 0,
      "outputs": [
        {
          "output_type": "display_data",
          "data": {
            "image/png": "[encoded data removed]",
            "text/plain": [
              "<Figure size 432x288 with 1 Axes>"
            ]
          },
          "metadata": {
            "tags": []
          }
        }
      ]
    },
    {
      "cell_type": "markdown",
      "metadata": {
        "id": "KEzo9D08zUI7",
        "colab_type": "text"
      },
      "source": [
        "##3) เขียนโปรแกรมเพื่อหายอดขายรวมของสินค้าทุกประเภท ในทุกช่องทาง สำหรับแต่ละภูมิภาคแล้ววาด pie chart"
      ]
    },
    {
      "cell_type": "code",
      "metadata": {
        "id": "L6fF0inBn9Jm",
        "colab_type": "code",
        "outputId": "57d76f47-8f2f-47b8-fa35-5b77ffa313a4",
        "colab": {
          "base_uri": "https://localhost:8080/",
          "height": 248
        }
      },
      "source": [
        "import matplotlib.pyplot as plt\n",
        "import pandas as pd\n",
        "#Read\n",
        "wholesale = pd.read_csv('Rename_Wholesale.csv')\n",
        "wholesale_Lisnon = wholesale[wholesale.Region == 'Lisnon']\n",
        "wholesale_sumLisnon = wholesale_Lisnon['Milk'].sum(axis=0) + wholesale_Lisnon['Fresh'].sum(axis=0) + wholesale_Lisnon['Grocery'].sum(axis=0) + wholesale_Lisnon['Frozen'].sum(axis=0)+ wholesale_Lisnon['Detergents_Paper'].sum(axis=0)+ wholesale_Lisnon['Delicassen'].sum(axis=0)\n",
        "wholesale_Oporto = wholesale[wholesale.Region == 'Oporto']\n",
        "wholesale_sumOporto = wholesale_Oporto['Milk'].sum(axis=0) + wholesale_Oporto['Fresh'].sum(axis=0) + wholesale_Oporto['Grocery'].sum(axis=0) + wholesale_Oporto['Frozen'].sum(axis=0)+ wholesale_Oporto['Detergents_Paper'].sum(axis=0)+ wholesale_Oporto['Delicassen'].sum(axis=0)\n",
        "wholesale_Other= wholesale[wholesale.Region == 'Other']\n",
        "wholesale_sumOther = wholesale_Other['Milk'].sum(axis=0) + wholesale_Other['Fresh'].sum(axis=0) + wholesale_Other['Grocery'].sum(axis=0) + wholesale_Other['Frozen'].sum(axis=0)+ wholesale_Other['Detergents_Paper'].sum(axis=0)+ wholesale_Other['Delicassen'].sum(axis=0)\n",
        "\n",
        "#Data to plot\n",
        "labels = 'Lisnon', 'Oporto', 'Other'\n",
        "sizes = [wholesale_sumLisnon, wholesale_sumOporto, wholesale_sumOther]\n",
        "colors = ['red', 'yellow', 'lightskyblue']\n",
        "explode = (0, 0, 0)  \n",
        "\n",
        "# Plot pie chart\n",
        "plt.pie(sizes, explode=explode, labels=labels, colors=colors, autopct='%1.1f%%', shadow=True, startangle=90)\n",
        "plt.axis('equal') # Equal aspect ratio ensures that pie is drawn as a circle.\n",
        "plt.show()"
      ],
      "execution_count": 0,
      "outputs": [
        {
          "output_type": "display_data",
          "data": {
            "image/png": "[encoded data removed]",
            "text/plain": [
              "<Figure size 432x288 with 1 Axes>"
            ]
          },
          "metadata": {
            "tags": []
          }
        }
      ]
    },
    {
      "cell_type": "markdown",
      "metadata": {
        "id": "9QWd21l29blB",
        "colab_type": "text"
      },
      "source": [
        "##4) เขียนโปรแกรมเพื่อหายอดขายรวมของสินค้าสำหรับทำความสะอาดในแต่ละช่องทางการขาย โดยแบ่งเป็นของแต่ละภูมิภาค พร้อมพล็อตกราฟของแต่ละภูมิภาค"
      ]
    },
    {
      "cell_type": "code",
      "metadata": {
        "id": "-_Slg0Tyn92x",
        "colab_type": "code",
        "outputId": "136a3c5a-9495-4136-eab5-383cfe2ca380",
        "colab": {
          "base_uri": "https://localhost:8080/",
          "height": 405
        }
      },
      "source": [
        "import matplotlib.pyplot as plt\n",
        "import pandas as pd\n",
        "\n",
        "#read\n",
        "wholesale = pd.read_csv('Rename_Wholesale.csv')\n",
        "wholesalegroupDetergents = wholesale.groupby(['Channel','Region'], as_index = False)['Detergents_Paper'].sum()\n",
        "wholesalegroupDetergents\n",
        "\n",
        "#set figure size\n",
        "plt.figure(figsize =(8,6))\n",
        "sns.set_style(\"whitegrid\")\n",
        "\n",
        "#plot graph\n",
        "ax =sns.lineplot(y=\"Detergents_Paper\", x= \"Channel\", hue = \"Region\", data=wholesalegroupDetergents)\n",
        "ax.set_xlabel(\"Region\",fontsize=10)\n",
        "ax.set_ylabel(\"Total Wholesale of Detergents_Paper\", fontsize=10)\n"
      ],
      "execution_count": 0,
      "outputs": [
        {
          "output_type": "execute_result",
          "data": {
            "text/plain": [
              "Text(0, 0.5, 'Total Wholesale of Detergents_Paper')"
            ]
          },
          "metadata": {
            "tags": []
          },
          "execution_count": 104
        },
        {
          "output_type": "display_data",
          "data": {
            "image/png": "[encoded data removed]",
            "text/plain": [
              "<Figure size 576x432 with 1 Axes>"
            ]
          },
          "metadata": {
            "tags": []
          }
        }
      ]
    },
    {
      "cell_type": "markdown",
      "metadata": {
        "id": "Slm38QqAL-RI",
        "colab_type": "text"
      },
      "source": [
        "##5) เขียนโปรแกรมเพื่อหาจำนวนปีที่ยอดขายของอาหารสดรวมกับอาหารแช่แข็งผ่านช่องทาง Horeca(Hotel/Restaurant/Cafe) ไม่เกิน 1,000 ชิ้น"
      ]
    },
    {
      "cell_type": "code",
      "metadata": {
        "id": "B4zcE7fen-fE",
        "colab_type": "code",
        "outputId": "4d9110dd-8cd5-4196-bb0a-eefcf337e580",
        "colab": {
          "base_uri": "https://localhost:8080/",
          "height": 34
        }
      },
      "source": [
        "import matplotlib.pyplot as plt\n",
        "import pandas as pd\n",
        "#Read\n",
        "wholesale = pd.read_csv('Rename_Wholesale.csv')\n",
        "#หาผลรวมยอดขายของอาหารสดรวมกับอาหารแช่แข็ง\n",
        "wholesale['FreshandFrozen'] = wholesale['Fresh'] + wholesale['Frozen']\n",
        "#ยอดขายของอาหารสดรวมกับอาหารแช่แข็งผ่านช่องทาง Horeca(Hotel/Restaurant/Cafe) ไม่เกิน 1,000 ชิ้น\n",
        "wholesale_Horeca_FreshandFrozen = wholesale[(wholesale.Channel == 'Horeca (Hotel/Restuarant/cafe)') & (wholesale.FreshandFrozen < 1000) ]\n",
        "print('จำนวนปีที่ยอดขายของอาหารสดรวมกับอาหารแช่แข็งผ่านช่องทาง Horeca(Hotel/Restaurant/Cafe) ไม่เกิน 1,000 ชิ้น =',wholesale_Horeca_FreshandFrozen['FreshandFrozen'].count(), 'ปี' )\n",
        "\n"
      ],
      "execution_count": 0,
      "outputs": [
        {
          "output_type": "stream",
          "text": [
            "จำนวนปีที่ยอดขายของอาหารสดรวมกับอาหารแช่แข็งผ่านช่องทาง Horeca(Hotel/Restaurant/Cafe) ไม่เกิน 1,000 ชิ้น = 10 ปี\n"
          ],
          "name": "stdout"
        }
      ]
    },
    {
      "cell_type": "markdown",
      "metadata": {
        "id": "4bjUuOtxP2ui",
        "colab_type": "text"
      },
      "source": [
        "##6) เขียนโปรแกรมเพื่อหาภูมิภาคที่มีการบริโภคนมมากที่สุด และในภูมิภาคนั้นมีการบริโภคนมมากกว่าอาหารสดทั้งหมดกี่ปี"
      ]
    },
    {
      "cell_type": "code",
      "metadata": {
        "id": "u3Gk1A00n_EH",
        "colab_type": "code",
        "outputId": "a59404cf-0d2b-4831-8ba5-0064d9365262",
        "colab": {
          "base_uri": "https://localhost:8080/",
          "height": 34
        }
      },
      "source": [
        "import matplotlib.pyplot as plt\n",
        "import pandas as pd\n",
        "#Read\n",
        "wholesale = pd.read_csv('Rename_Wholesale.csv')\n",
        "#ผลรวมแต่ละภูมิภาคที่มีการบริโภคนม\n",
        "wholesale_Milk = wholesale['Milk'].sum()\n",
        "wholesale_sumLisnon_Milk = wholesale_Lisnon['Milk'].sum(axis=0)\n",
        "wholesale_sumLisnon_Milk\n",
        "wholesale_sumOporto_Milk = wholesale_Oporto['Milk'].sum(axis=0)\n",
        "wholesale_sumOporto_Milk\n",
        "wholesale_sumOther_Milk = wholesale_Other['Milk'].sum(axis=0)\n",
        "wholesale_sumOther_Milk\n",
        "#หาภูมิภาคที่มีการบริโภคนมมากที่สุด และหาจำนวนปีที่ภูมิภาคนั้นมีการบริโภคนมมากกว่าอาหารสด\n",
        "def biggest(wholesale_sumLisnon_Milk,wholesale_sumOporto_Milk,wholesale_sumOther_Milk) :\n",
        "  if wholesale_sumLisnon_Milk > wholesale_sumOporto_Milk:\n",
        "      if wholesale_sumLisnon_Milk > wholesale_sumOther_Milk:\n",
        "           return print('ภูมิภาคที่มีการบริโภคนมมากที่สุด คือ Lisnon และ จำนวนปีที่ภูมิภาคนี้มีการบริโภคนมมากกว่าอาหารสด =', wholesale[(wholesale.Region == 'Lisnon') & (wholesale.Milk > wholesale.Fresh)]['Milk'].count(), 'ปี')\n",
        "      else:\n",
        "           return print('ภูมิภาคที่มีการบริโภคนมมากที่สุด คือ Other และ จำนวนปีที่ภูมิภาคนี้มีการบริโภคนมมากกว่าอาหารสด =', wholesale[(wholesale.Region == 'Other') & (wholesale.Milk > wholesale.Fresh)]['Milk'].count(), 'ปี')\n",
        "  else :\n",
        "      if wholesale_sumOporto_Milk > wholesale_sumOther_Milk:\n",
        "           return print('ภูมิภาคที่มีการบริโภคนมมากที่สุด คือ Oporto และ จำนวนปีที่ภูมิภาคนี้มีการบริโภคนมมากกว่าอาหารสด =', wholesale[(wholesale.Region == 'Oporto') & (wholesale.Milk > wholesale.Fresh)]['Milk'].count(), 'ปี')\n",
        "      else :\n",
        "           return  print('ภูมิภาคที่มีการบริโภคนมมากที่สุด คือ Other และ จำนวนปีที่ภูมิภาคนี้มีการบริโภคนมมากกว่าอาหารสด =', wholesale[(wholesale.Region == 'Other') & (wholesale.Milk > wholesale.Fresh)]['Milk'].count(), 'ปี')\n",
        "biggest(wholesale_sumLisnon_Milk,wholesale_sumOporto_Milk,wholesale_sumOther_Milk)\n",
        "\n"
      ],
      "execution_count": 0,
      "outputs": [
        {
          "output_type": "stream",
          "text": [
            "ภูมิภาคที่มีการบริโภคนมมากที่สุด คือ Other และ จำนวนปีที่ภูมิภาคนี้มีการบริโภคนมมากกว่าอาหารสด = 107 ปี\n"
          ],
          "name": "stdout"
        }
      ]
    }
  ]
}